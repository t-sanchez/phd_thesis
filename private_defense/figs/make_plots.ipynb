{
 "cells": [
  {
   "cell_type": "markdown",
   "id": "a199fab2",
   "metadata": {},
   "source": [
    "# Make some plots for the thesis defense presentation\n",
    "\n",
    "1. $n_{recon}$ against the sampling rate: illustrate the scaling of the different algorithms"
   ]
  },
  {
   "cell_type": "code",
   "execution_count": null,
   "id": "1b886e10",
   "metadata": {},
   "outputs": [],
   "source": [
    "import numpy as np\n",
    "import matplotlib as mpl\n",
    "import matplotlib.pyplot as plt\n",
    "mpl.rcParams.update({'font.size': 16})\n",
    "plt.rcParams.update({\n",
    "    \"text.usetex\": True,\n",
    "    \"font.family\": \"sans-serif\",\n",
    "    \"font.sans-serif\": [\"Helvetica\"]})\n",
    "# for Palatino and other serif fonts use:\n",
    "plt.rcParams.update({\n",
    "    \"text.usetex\": True,\n",
    "    \"font.family\": \"serif\",\n",
    "    \"font.serif\": [\"Palatino\"],\n",
    "})\n",
    "# It's also possible to use the reduced notation by directly setting font.family:\n",
    "plt.rcParams.update({\n",
    "  \"text.usetex\": True,\n",
    "  \"font.family\": \"Helvetica\"\n",
    "})\n"
   ]
  },
  {
   "cell_type": "code",
   "execution_count": null,
   "id": "6289d4ea",
   "metadata": {},
   "outputs": [],
   "source": [
    "n_frames=17\n",
    "n_lines = 152\n",
    "n_samp = n_lines*n_frames\n",
    "n_data=3\n",
    "k = 38 #n_lines out of total\n",
    "k2 = 10 #n_lines out of total\n",
    "l = 1  #n_data points out of total\n",
    "\n",
    "lines = np.arange(0,0.3*152*17)"
   ]
  },
  {
   "cell_type": "code",
   "execution_count": null,
   "id": "5dc0b937",
   "metadata": {},
   "outputs": [],
   "source": [
    "g_v1 = [0]\n",
    "g_v2 = [0]\n",
    "sg_v1 = [0]\n",
    "sg_v2 = [0]\n",
    "sg_v2_10 = [0]\n",
    "for i in range(len(lines)-1):\n",
    "        g_v1.append(g_v1[-1]+n_data*(n_samp-i))        \n",
    "        g_v2.append(g_v2[-1]+l*(n_samp-i))\n",
    "        sg_v1.append(sg_v1[-1]+n_data*(k))\n",
    "        sg_v2.append(sg_v2[-1]+l*(k))\n",
    "        sg_v2_10.append(sg_v2_10[-1]+l*(k2))"
   ]
  },
  {
   "cell_type": "code",
   "execution_count": null,
   "id": "5f550fac",
   "metadata": {},
   "outputs": [],
   "source": [
    "plt.semilogy(lines/n_samp,g_v1,'k-',linewidth=1.5,label=\"LBCS\")\n",
    "#plt.semilogy(lines/n_samp,g_v2,'g-.',label=\"G-v2 (l=1)\")\n",
    "#plt.semilogy(lines/n_samp,sg_v1,'bd--',label=\"SG-v1 (k=38)\",markevery=50)\n",
    "plt.semilogy(lines/n_samp,sg_v2_10,'rx-',label=\"sLBCS (k=10, l=1)\",markevery=50)\n",
    "plt.semilogy(lines/n_samp,sg_v2,'rd-',label=\"sLBCS (k=38, l=1)\",markevery=50)\n",
    "plt.xlim([0,0.3])\n",
    "plt.legend(labelspacing = -0.1)\n",
    "plt.ylabel(\"$n_{recon}$\")\n",
    "plt.xlabel(\"Sampling rate\")\n",
    "plt.grid()\n",
    "plt.tight_layout()\n",
    "plt.savefig(\"n_recon_slbcs.pdf\")"
   ]
  },
  {
   "cell_type": "code",
   "execution_count": null,
   "id": "5dfb597f",
   "metadata": {},
   "outputs": [],
   "source": [
    "n_frames=1\n",
    "n_lines = 320\n",
    "n_samp = n_lines*n_frames\n",
    "n_data=12649\n",
    "k = 80 #n_lines out of total\n",
    "l = 20  #n_data points out of total\n",
    "\n",
    "lines = np.arange(0,0.3*320*1)\n",
    "g_v1 = [0]\n",
    "g_v2 = [0]\n",
    "sg_v1 = [0]\n",
    "sg_v2 = [0]\n",
    "for i in range(len(lines)-1):\n",
    "        g_v1.append(g_v1[-1]+n_data*(n_samp-i))        \n",
    "        g_v2.append(g_v2[-1]+l*(n_samp-i))\n",
    "        sg_v1.append(sg_v1[-1]+n_data*(k))\n",
    "        sg_v2.append(sg_v2[-1]+l*(k))"
   ]
  },
  {
   "cell_type": "code",
   "execution_count": null,
   "id": "7917b757",
   "metadata": {},
   "outputs": [],
   "source": [
    "plt.semilogy(lines/n_samp,g_v1,'k-',linewidth=1.5,label=\"G-v1\")\n",
    "plt.semilogy(lines/n_samp,g_v2,'g-.',label=\"G-v2 (l=20)\")\n",
    "plt.semilogy(lines/n_samp,sg_v1,'bd--',label=\"SG-v1 (k=80)\",markevery=20)\n",
    "plt.semilogy(lines/n_samp,sg_v2,'rd-',label=\"SG-v2 (k=80, l=20)\",markevery=20)\n",
    "plt.xlim([0,0.3])\n",
    "plt.ylim([100,1e9])\n",
    "plt.legend(labelspacing = -0.1)\n",
    "plt.ylabel(\"$n_{recon}$\")\n",
    "plt.xlabel(\"Sampling rate\")\n",
    "plt.grid()\n",
    "plt.tight_layout()\n",
    "plt.savefig(\"n_recon_slbcs_large_scale.pdf\")"
   ]
  },
  {
   "cell_type": "code",
   "execution_count": null,
   "id": "6293dc36",
   "metadata": {},
   "outputs": [],
   "source": [
    "g_v1[-1]/sg_v2[-1]"
   ]
  },
  {
   "cell_type": "code",
   "execution_count": null,
   "id": "0ee47cd1",
   "metadata": {},
   "outputs": [],
   "source": []
  }
 ],
 "metadata": {
  "kernelspec": {
   "display_name": "Python 3 (ipykernel)",
   "language": "python",
   "name": "python3"
  },
  "language_info": {
   "codemirror_mode": {
    "name": "ipython",
    "version": 3
   },
   "file_extension": ".py",
   "mimetype": "text/x-python",
   "name": "python",
   "nbconvert_exporter": "python",
   "pygments_lexer": "ipython3",
   "version": "3.8.3"
  }
 },
 "nbformat": 4,
 "nbformat_minor": 5
}
